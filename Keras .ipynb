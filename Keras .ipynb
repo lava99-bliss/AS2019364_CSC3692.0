{
 "cells": [
  {
   "cell_type": "code",
   "execution_count": 7,
   "id": "76438978",
   "metadata": {},
   "outputs": [],
   "source": [
    "import pandas as pd\n",
    "from sklearn import preprocessing\n",
    "from sklearn.model_selection import train_test_split\n",
    "import numpy as np \n"
   ]
  },
  {
   "cell_type": "code",
   "execution_count": 8,
   "id": "fdabedc5",
   "metadata": {},
   "outputs": [],
   "source": [
    "df = pd.read_csv('dataSet.csv')"
   ]
  },
  {
   "cell_type": "code",
   "execution_count": 9,
   "id": "133b161c",
   "metadata": {},
   "outputs": [
    {
     "data": {
      "text/html": [
       "<div>\n",
       "<style scoped>\n",
       "    .dataframe tbody tr th:only-of-type {\n",
       "        vertical-align: middle;\n",
       "    }\n",
       "\n",
       "    .dataframe tbody tr th {\n",
       "        vertical-align: top;\n",
       "    }\n",
       "\n",
       "    .dataframe thead th {\n",
       "        text-align: right;\n",
       "    }\n",
       "</style>\n",
       "<table border=\"1\" class=\"dataframe\">\n",
       "  <thead>\n",
       "    <tr style=\"text-align: right;\">\n",
       "      <th></th>\n",
       "      <th>battery_power</th>\n",
       "      <th>blue</th>\n",
       "      <th>clock_speed</th>\n",
       "      <th>dual_sim</th>\n",
       "      <th>fc</th>\n",
       "      <th>four_g</th>\n",
       "      <th>int_memory</th>\n",
       "      <th>m_dep</th>\n",
       "      <th>mobile_wt</th>\n",
       "      <th>n_cores</th>\n",
       "      <th>...</th>\n",
       "      <th>px_height</th>\n",
       "      <th>px_width</th>\n",
       "      <th>ram</th>\n",
       "      <th>sc_h</th>\n",
       "      <th>sc_w</th>\n",
       "      <th>talk_time</th>\n",
       "      <th>three_g</th>\n",
       "      <th>touch_screen</th>\n",
       "      <th>wifi</th>\n",
       "      <th>price_range</th>\n",
       "    </tr>\n",
       "  </thead>\n",
       "  <tbody>\n",
       "    <tr>\n",
       "      <th>0</th>\n",
       "      <td>842</td>\n",
       "      <td>0</td>\n",
       "      <td>2.2</td>\n",
       "      <td>0</td>\n",
       "      <td>1</td>\n",
       "      <td>0</td>\n",
       "      <td>7</td>\n",
       "      <td>0.6</td>\n",
       "      <td>188</td>\n",
       "      <td>2</td>\n",
       "      <td>...</td>\n",
       "      <td>20</td>\n",
       "      <td>756</td>\n",
       "      <td>2549</td>\n",
       "      <td>9</td>\n",
       "      <td>7</td>\n",
       "      <td>19</td>\n",
       "      <td>0</td>\n",
       "      <td>0</td>\n",
       "      <td>1</td>\n",
       "      <td>1</td>\n",
       "    </tr>\n",
       "    <tr>\n",
       "      <th>1</th>\n",
       "      <td>1021</td>\n",
       "      <td>1</td>\n",
       "      <td>0.5</td>\n",
       "      <td>1</td>\n",
       "      <td>0</td>\n",
       "      <td>1</td>\n",
       "      <td>53</td>\n",
       "      <td>0.7</td>\n",
       "      <td>136</td>\n",
       "      <td>3</td>\n",
       "      <td>...</td>\n",
       "      <td>905</td>\n",
       "      <td>1988</td>\n",
       "      <td>2631</td>\n",
       "      <td>17</td>\n",
       "      <td>3</td>\n",
       "      <td>7</td>\n",
       "      <td>1</td>\n",
       "      <td>1</td>\n",
       "      <td>0</td>\n",
       "      <td>2</td>\n",
       "    </tr>\n",
       "    <tr>\n",
       "      <th>2</th>\n",
       "      <td>563</td>\n",
       "      <td>1</td>\n",
       "      <td>0.5</td>\n",
       "      <td>1</td>\n",
       "      <td>2</td>\n",
       "      <td>1</td>\n",
       "      <td>41</td>\n",
       "      <td>0.9</td>\n",
       "      <td>145</td>\n",
       "      <td>5</td>\n",
       "      <td>...</td>\n",
       "      <td>1263</td>\n",
       "      <td>1716</td>\n",
       "      <td>2603</td>\n",
       "      <td>11</td>\n",
       "      <td>2</td>\n",
       "      <td>9</td>\n",
       "      <td>1</td>\n",
       "      <td>1</td>\n",
       "      <td>0</td>\n",
       "      <td>2</td>\n",
       "    </tr>\n",
       "    <tr>\n",
       "      <th>3</th>\n",
       "      <td>615</td>\n",
       "      <td>1</td>\n",
       "      <td>2.5</td>\n",
       "      <td>0</td>\n",
       "      <td>0</td>\n",
       "      <td>0</td>\n",
       "      <td>10</td>\n",
       "      <td>0.8</td>\n",
       "      <td>131</td>\n",
       "      <td>6</td>\n",
       "      <td>...</td>\n",
       "      <td>1216</td>\n",
       "      <td>1786</td>\n",
       "      <td>2769</td>\n",
       "      <td>16</td>\n",
       "      <td>8</td>\n",
       "      <td>11</td>\n",
       "      <td>1</td>\n",
       "      <td>0</td>\n",
       "      <td>0</td>\n",
       "      <td>2</td>\n",
       "    </tr>\n",
       "    <tr>\n",
       "      <th>4</th>\n",
       "      <td>1821</td>\n",
       "      <td>1</td>\n",
       "      <td>1.2</td>\n",
       "      <td>0</td>\n",
       "      <td>13</td>\n",
       "      <td>1</td>\n",
       "      <td>44</td>\n",
       "      <td>0.6</td>\n",
       "      <td>141</td>\n",
       "      <td>2</td>\n",
       "      <td>...</td>\n",
       "      <td>1208</td>\n",
       "      <td>1212</td>\n",
       "      <td>1411</td>\n",
       "      <td>8</td>\n",
       "      <td>2</td>\n",
       "      <td>15</td>\n",
       "      <td>1</td>\n",
       "      <td>1</td>\n",
       "      <td>0</td>\n",
       "      <td>1</td>\n",
       "    </tr>\n",
       "    <tr>\n",
       "      <th>...</th>\n",
       "      <td>...</td>\n",
       "      <td>...</td>\n",
       "      <td>...</td>\n",
       "      <td>...</td>\n",
       "      <td>...</td>\n",
       "      <td>...</td>\n",
       "      <td>...</td>\n",
       "      <td>...</td>\n",
       "      <td>...</td>\n",
       "      <td>...</td>\n",
       "      <td>...</td>\n",
       "      <td>...</td>\n",
       "      <td>...</td>\n",
       "      <td>...</td>\n",
       "      <td>...</td>\n",
       "      <td>...</td>\n",
       "      <td>...</td>\n",
       "      <td>...</td>\n",
       "      <td>...</td>\n",
       "      <td>...</td>\n",
       "      <td>...</td>\n",
       "    </tr>\n",
       "    <tr>\n",
       "      <th>1995</th>\n",
       "      <td>794</td>\n",
       "      <td>1</td>\n",
       "      <td>0.5</td>\n",
       "      <td>1</td>\n",
       "      <td>0</td>\n",
       "      <td>1</td>\n",
       "      <td>2</td>\n",
       "      <td>0.8</td>\n",
       "      <td>106</td>\n",
       "      <td>6</td>\n",
       "      <td>...</td>\n",
       "      <td>1222</td>\n",
       "      <td>1890</td>\n",
       "      <td>668</td>\n",
       "      <td>13</td>\n",
       "      <td>4</td>\n",
       "      <td>19</td>\n",
       "      <td>1</td>\n",
       "      <td>1</td>\n",
       "      <td>0</td>\n",
       "      <td>0</td>\n",
       "    </tr>\n",
       "    <tr>\n",
       "      <th>1996</th>\n",
       "      <td>1965</td>\n",
       "      <td>1</td>\n",
       "      <td>2.6</td>\n",
       "      <td>1</td>\n",
       "      <td>0</td>\n",
       "      <td>0</td>\n",
       "      <td>39</td>\n",
       "      <td>0.2</td>\n",
       "      <td>187</td>\n",
       "      <td>4</td>\n",
       "      <td>...</td>\n",
       "      <td>915</td>\n",
       "      <td>1965</td>\n",
       "      <td>2032</td>\n",
       "      <td>11</td>\n",
       "      <td>10</td>\n",
       "      <td>16</td>\n",
       "      <td>1</td>\n",
       "      <td>1</td>\n",
       "      <td>1</td>\n",
       "      <td>2</td>\n",
       "    </tr>\n",
       "    <tr>\n",
       "      <th>1997</th>\n",
       "      <td>1911</td>\n",
       "      <td>0</td>\n",
       "      <td>0.9</td>\n",
       "      <td>1</td>\n",
       "      <td>1</td>\n",
       "      <td>1</td>\n",
       "      <td>36</td>\n",
       "      <td>0.7</td>\n",
       "      <td>108</td>\n",
       "      <td>8</td>\n",
       "      <td>...</td>\n",
       "      <td>868</td>\n",
       "      <td>1632</td>\n",
       "      <td>3057</td>\n",
       "      <td>9</td>\n",
       "      <td>1</td>\n",
       "      <td>5</td>\n",
       "      <td>1</td>\n",
       "      <td>1</td>\n",
       "      <td>0</td>\n",
       "      <td>3</td>\n",
       "    </tr>\n",
       "    <tr>\n",
       "      <th>1998</th>\n",
       "      <td>1512</td>\n",
       "      <td>0</td>\n",
       "      <td>0.9</td>\n",
       "      <td>0</td>\n",
       "      <td>4</td>\n",
       "      <td>1</td>\n",
       "      <td>46</td>\n",
       "      <td>0.1</td>\n",
       "      <td>145</td>\n",
       "      <td>5</td>\n",
       "      <td>...</td>\n",
       "      <td>336</td>\n",
       "      <td>670</td>\n",
       "      <td>869</td>\n",
       "      <td>18</td>\n",
       "      <td>10</td>\n",
       "      <td>19</td>\n",
       "      <td>1</td>\n",
       "      <td>1</td>\n",
       "      <td>1</td>\n",
       "      <td>0</td>\n",
       "    </tr>\n",
       "    <tr>\n",
       "      <th>1999</th>\n",
       "      <td>510</td>\n",
       "      <td>1</td>\n",
       "      <td>2.0</td>\n",
       "      <td>1</td>\n",
       "      <td>5</td>\n",
       "      <td>1</td>\n",
       "      <td>45</td>\n",
       "      <td>0.9</td>\n",
       "      <td>168</td>\n",
       "      <td>6</td>\n",
       "      <td>...</td>\n",
       "      <td>483</td>\n",
       "      <td>754</td>\n",
       "      <td>3919</td>\n",
       "      <td>19</td>\n",
       "      <td>4</td>\n",
       "      <td>2</td>\n",
       "      <td>1</td>\n",
       "      <td>1</td>\n",
       "      <td>1</td>\n",
       "      <td>3</td>\n",
       "    </tr>\n",
       "  </tbody>\n",
       "</table>\n",
       "<p>2000 rows × 21 columns</p>\n",
       "</div>"
      ],
      "text/plain": [
       "      battery_power  blue  clock_speed  dual_sim  fc  four_g  int_memory  \\\n",
       "0               842     0          2.2         0   1       0           7   \n",
       "1              1021     1          0.5         1   0       1          53   \n",
       "2               563     1          0.5         1   2       1          41   \n",
       "3               615     1          2.5         0   0       0          10   \n",
       "4              1821     1          1.2         0  13       1          44   \n",
       "...             ...   ...          ...       ...  ..     ...         ...   \n",
       "1995            794     1          0.5         1   0       1           2   \n",
       "1996           1965     1          2.6         1   0       0          39   \n",
       "1997           1911     0          0.9         1   1       1          36   \n",
       "1998           1512     0          0.9         0   4       1          46   \n",
       "1999            510     1          2.0         1   5       1          45   \n",
       "\n",
       "      m_dep  mobile_wt  n_cores  ...  px_height  px_width   ram  sc_h  sc_w  \\\n",
       "0       0.6        188        2  ...         20       756  2549     9     7   \n",
       "1       0.7        136        3  ...        905      1988  2631    17     3   \n",
       "2       0.9        145        5  ...       1263      1716  2603    11     2   \n",
       "3       0.8        131        6  ...       1216      1786  2769    16     8   \n",
       "4       0.6        141        2  ...       1208      1212  1411     8     2   \n",
       "...     ...        ...      ...  ...        ...       ...   ...   ...   ...   \n",
       "1995    0.8        106        6  ...       1222      1890   668    13     4   \n",
       "1996    0.2        187        4  ...        915      1965  2032    11    10   \n",
       "1997    0.7        108        8  ...        868      1632  3057     9     1   \n",
       "1998    0.1        145        5  ...        336       670   869    18    10   \n",
       "1999    0.9        168        6  ...        483       754  3919    19     4   \n",
       "\n",
       "      talk_time  three_g  touch_screen  wifi  price_range  \n",
       "0            19        0             0     1            1  \n",
       "1             7        1             1     0            2  \n",
       "2             9        1             1     0            2  \n",
       "3            11        1             0     0            2  \n",
       "4            15        1             1     0            1  \n",
       "...         ...      ...           ...   ...          ...  \n",
       "1995         19        1             1     0            0  \n",
       "1996         16        1             1     1            2  \n",
       "1997          5        1             1     0            3  \n",
       "1998         19        1             1     1            0  \n",
       "1999          2        1             1     1            3  \n",
       "\n",
       "[2000 rows x 21 columns]"
      ]
     },
     "execution_count": 9,
     "metadata": {},
     "output_type": "execute_result"
    }
   ],
   "source": [
    "df"
   ]
  },
  {
   "cell_type": "code",
   "execution_count": 10,
   "id": "088623e6",
   "metadata": {},
   "outputs": [],
   "source": [
    "Array_dataset = df.values"
   ]
  },
  {
   "cell_type": "code",
   "execution_count": 11,
   "id": "d1bd0003",
   "metadata": {},
   "outputs": [
    {
     "data": {
      "text/plain": [
       "array([[8.420e+02, 0.000e+00, 2.200e+00, ..., 0.000e+00, 1.000e+00,\n",
       "        1.000e+00],\n",
       "       [1.021e+03, 1.000e+00, 5.000e-01, ..., 1.000e+00, 0.000e+00,\n",
       "        2.000e+00],\n",
       "       [5.630e+02, 1.000e+00, 5.000e-01, ..., 1.000e+00, 0.000e+00,\n",
       "        2.000e+00],\n",
       "       ...,\n",
       "       [1.911e+03, 0.000e+00, 9.000e-01, ..., 1.000e+00, 0.000e+00,\n",
       "        3.000e+00],\n",
       "       [1.512e+03, 0.000e+00, 9.000e-01, ..., 1.000e+00, 1.000e+00,\n",
       "        0.000e+00],\n",
       "       [5.100e+02, 1.000e+00, 2.000e+00, ..., 1.000e+00, 1.000e+00,\n",
       "        3.000e+00]])"
      ]
     },
     "execution_count": 11,
     "metadata": {},
     "output_type": "execute_result"
    }
   ],
   "source": [
    "Array_dataset"
   ]
  },
  {
   "cell_type": "code",
   "execution_count": 12,
   "id": "3a682cbf",
   "metadata": {},
   "outputs": [],
   "source": [
    "X = Array_dataset[:,0:20]\n",
    "Y = Array_dataset[:,20]"
   ]
  },
  {
   "cell_type": "code",
   "execution_count": 13,
   "id": "9bef01f5",
   "metadata": {},
   "outputs": [],
   "source": [
    "# transform data \n",
    "min_max_scaler = preprocessing.MinMaxScaler()\n",
    "X_scale = min_max_scaler.fit_transform(X)"
   ]
  },
  {
   "cell_type": "code",
   "execution_count": 14,
   "id": "26ae199c",
   "metadata": {},
   "outputs": [
    {
     "data": {
      "text/plain": [
       "array([[0.22778891, 0.        , 0.68      , ..., 0.        , 0.        ,\n",
       "        1.        ],\n",
       "       [0.34736139, 1.        , 0.        , ..., 1.        , 1.        ,\n",
       "        0.        ],\n",
       "       [0.04141617, 1.        , 0.        , ..., 1.        , 1.        ,\n",
       "        0.        ],\n",
       "       ...,\n",
       "       [0.94188377, 0.        , 0.16      , ..., 1.        , 1.        ,\n",
       "        0.        ],\n",
       "       [0.6753507 , 0.        , 0.16      , ..., 1.        , 1.        ,\n",
       "        1.        ],\n",
       "       [0.00601202, 1.        , 0.6       , ..., 1.        , 1.        ,\n",
       "        1.        ]])"
      ]
     },
     "execution_count": 14,
     "metadata": {},
     "output_type": "execute_result"
    }
   ],
   "source": [
    "X_scale"
   ]
  },
  {
   "cell_type": "code",
   "execution_count": 15,
   "id": "47326cc1",
   "metadata": {},
   "outputs": [],
   "source": [
    "Y = df['price_range']"
   ]
  },
  {
   "cell_type": "code",
   "execution_count": 16,
   "id": "30434c6c",
   "metadata": {},
   "outputs": [
    {
     "data": {
      "text/plain": [
       "0       1\n",
       "1       2\n",
       "2       2\n",
       "3       2\n",
       "4       1\n",
       "       ..\n",
       "1995    0\n",
       "1996    2\n",
       "1997    3\n",
       "1998    0\n",
       "1999    3\n",
       "Name: price_range, Length: 2000, dtype: int64"
      ]
     },
     "execution_count": 16,
     "metadata": {},
     "output_type": "execute_result"
    }
   ],
   "source": [
    "Y"
   ]
  },
  {
   "cell_type": "code",
   "execution_count": null,
   "id": "94ff7dee",
   "metadata": {},
   "outputs": [],
   "source": [
    "#splitting data into train,validate and testing sets "
   ]
  },
  {
   "cell_type": "code",
   "execution_count": 17,
   "id": "8e48330f",
   "metadata": {},
   "outputs": [],
   "source": [
    "X_train, X_val_and_test, Y_train, Y_val_and_test = train_test_split(X_scale, Y, test_size=0.2 , random_state=42)"
   ]
  },
  {
   "cell_type": "code",
   "execution_count": 18,
   "id": "c3eb077c",
   "metadata": {},
   "outputs": [
    {
     "data": {
      "text/plain": [
       "array([[0.76486306, 0.        , 0.8       , ..., 1.        , 1.        ,\n",
       "        0.        ],\n",
       "       [0.45490982, 0.        , 0.        , ..., 1.        , 0.        ,\n",
       "        0.        ],\n",
       "       [0.98263193, 0.        , 0.96      , ..., 1.        , 1.        ,\n",
       "        0.        ],\n",
       "       ...,\n",
       "       [0.36272545, 0.        , 0.52      , ..., 1.        , 1.        ,\n",
       "        1.        ],\n",
       "       [0.15163661, 0.        , 0.88      , ..., 1.        , 1.        ,\n",
       "        1.        ],\n",
       "       [0.45691383, 0.        , 0.56      , ..., 1.        , 1.        ,\n",
       "        1.        ]])"
      ]
     },
     "execution_count": 18,
     "metadata": {},
     "output_type": "execute_result"
    }
   ],
   "source": [
    "X_val_and_test"
   ]
  },
  {
   "cell_type": "code",
   "execution_count": 19,
   "id": "bec4fdc6",
   "metadata": {},
   "outputs": [],
   "source": [
    "# split for validate and test\n",
    "X_val, X_test, Y_val, Y_test = train_test_split(X_val_and_test, Y_val_and_test, test_size=0.5)"
   ]
  },
  {
   "cell_type": "code",
   "execution_count": 20,
   "id": "acdb48e6",
   "metadata": {},
   "outputs": [
    {
     "name": "stdout",
     "output_type": "stream",
     "text": [
      "(1600, 20) (200, 20) (200, 20) (1600,) (200,) (200,)\n"
     ]
    }
   ],
   "source": [
    "print(X_train.shape, X_val.shape, X_test.shape, Y_train.shape, Y_val.shape, Y_test.shape)"
   ]
  },
  {
   "cell_type": "code",
   "execution_count": 21,
   "id": "f145833d",
   "metadata": {},
   "outputs": [],
   "source": [
    "#import keras \n",
    "from keras.models import Sequential\n",
    "from keras.layers import Dense\n",
    "from keras.losses import SparseCategoricalCrossentropy\n",
    "from keras.optimizers import Adam\n"
   ]
  },
  {
   "cell_type": "code",
   "execution_count": 22,
   "id": "e8421c8e",
   "metadata": {},
   "outputs": [],
   "source": [
    "# frame it to a sequential model\n",
    "model = Sequential([\n",
    " Dense(16, activation=\"relu\", input_shape=(20,)),\n",
    " Dense(16,activation='relu'),\n",
    " Dense(4,activation='softmax')\n",
    "])"
   ]
  },
  {
   "cell_type": "code",
   "execution_count": 23,
   "id": "81f27702",
   "metadata": {},
   "outputs": [],
   "source": [
    "# configuration\n",
    "model.compile(\n",
    "   loss = SparseCategoricalCrossentropy(),\n",
    "   optimizer = Adam(),\n",
    "   metrics=\"accuracy\")"
   ]
  },
  {
   "cell_type": "code",
   "execution_count": 24,
   "id": "83f824f7",
   "metadata": {},
   "outputs": [
    {
     "name": "stdout",
     "output_type": "stream",
     "text": [
      "Epoch 1/50\n",
      "50/50 [==============================] - 1s 7ms/step - loss: 1.4259 - accuracy: 0.2431 - val_loss: 1.3819 - val_accuracy: 0.3000\n",
      "Epoch 2/50\n",
      "50/50 [==============================] - 0s 3ms/step - loss: 1.3678 - accuracy: 0.2906 - val_loss: 1.3501 - val_accuracy: 0.3400\n",
      "Epoch 3/50\n",
      "50/50 [==============================] - 0s 2ms/step - loss: 1.3225 - accuracy: 0.3431 - val_loss: 1.2954 - val_accuracy: 0.4150\n",
      "Epoch 4/50\n",
      "50/50 [==============================] - 0s 2ms/step - loss: 1.2466 - accuracy: 0.4200 - val_loss: 1.1852 - val_accuracy: 0.5450\n",
      "Epoch 5/50\n",
      "50/50 [==============================] - 0s 2ms/step - loss: 1.1393 - accuracy: 0.5094 - val_loss: 1.0687 - val_accuracy: 0.5900\n",
      "Epoch 6/50\n",
      "50/50 [==============================] - 0s 2ms/step - loss: 1.0210 - accuracy: 0.5919 - val_loss: 0.9456 - val_accuracy: 0.6250\n",
      "Epoch 7/50\n",
      "50/50 [==============================] - 0s 2ms/step - loss: 0.9087 - accuracy: 0.6625 - val_loss: 0.8307 - val_accuracy: 0.7400\n",
      "Epoch 8/50\n",
      "50/50 [==============================] - 0s 2ms/step - loss: 0.8152 - accuracy: 0.7031 - val_loss: 0.7426 - val_accuracy: 0.7950\n",
      "Epoch 9/50\n",
      "50/50 [==============================] - 0s 2ms/step - loss: 0.7394 - accuracy: 0.7556 - val_loss: 0.6704 - val_accuracy: 0.8150\n",
      "Epoch 10/50\n",
      "50/50 [==============================] - 0s 2ms/step - loss: 0.6760 - accuracy: 0.7725 - val_loss: 0.6153 - val_accuracy: 0.8150\n",
      "Epoch 11/50\n",
      "50/50 [==============================] - 0s 2ms/step - loss: 0.6213 - accuracy: 0.7906 - val_loss: 0.5625 - val_accuracy: 0.8200\n",
      "Epoch 12/50\n",
      "50/50 [==============================] - 0s 3ms/step - loss: 0.5785 - accuracy: 0.8087 - val_loss: 0.5285 - val_accuracy: 0.8300\n",
      "Epoch 13/50\n",
      "50/50 [==============================] - 0s 3ms/step - loss: 0.5345 - accuracy: 0.8244 - val_loss: 0.4991 - val_accuracy: 0.8300\n",
      "Epoch 14/50\n",
      "50/50 [==============================] - 0s 2ms/step - loss: 0.5004 - accuracy: 0.8388 - val_loss: 0.4661 - val_accuracy: 0.8250\n",
      "Epoch 15/50\n",
      "50/50 [==============================] - 0s 3ms/step - loss: 0.4697 - accuracy: 0.8456 - val_loss: 0.4267 - val_accuracy: 0.8450\n",
      "Epoch 16/50\n",
      "50/50 [==============================] - 0s 2ms/step - loss: 0.4395 - accuracy: 0.8606 - val_loss: 0.4126 - val_accuracy: 0.8550\n",
      "Epoch 17/50\n",
      "50/50 [==============================] - 0s 3ms/step - loss: 0.4150 - accuracy: 0.8662 - val_loss: 0.3902 - val_accuracy: 0.8750\n",
      "Epoch 18/50\n",
      "50/50 [==============================] - 0s 3ms/step - loss: 0.3893 - accuracy: 0.8869 - val_loss: 0.3706 - val_accuracy: 0.8600\n",
      "Epoch 19/50\n",
      "50/50 [==============================] - 0s 2ms/step - loss: 0.3721 - accuracy: 0.8800 - val_loss: 0.3519 - val_accuracy: 0.8800\n",
      "Epoch 20/50\n",
      "50/50 [==============================] - 0s 2ms/step - loss: 0.3532 - accuracy: 0.8925 - val_loss: 0.3343 - val_accuracy: 0.8950\n",
      "Epoch 21/50\n",
      "50/50 [==============================] - 0s 2ms/step - loss: 0.3359 - accuracy: 0.8913 - val_loss: 0.3144 - val_accuracy: 0.8900\n",
      "Epoch 22/50\n",
      "50/50 [==============================] - 0s 2ms/step - loss: 0.3212 - accuracy: 0.9050 - val_loss: 0.3269 - val_accuracy: 0.8750\n",
      "Epoch 23/50\n",
      "50/50 [==============================] - 0s 3ms/step - loss: 0.3082 - accuracy: 0.9069 - val_loss: 0.2896 - val_accuracy: 0.9150\n",
      "Epoch 24/50\n",
      "50/50 [==============================] - 0s 3ms/step - loss: 0.2994 - accuracy: 0.9137 - val_loss: 0.2806 - val_accuracy: 0.9050\n",
      "Epoch 25/50\n",
      "50/50 [==============================] - 0s 3ms/step - loss: 0.2835 - accuracy: 0.9150 - val_loss: 0.2628 - val_accuracy: 0.9300\n",
      "Epoch 26/50\n",
      "50/50 [==============================] - 0s 2ms/step - loss: 0.2772 - accuracy: 0.9131 - val_loss: 0.2602 - val_accuracy: 0.8950\n",
      "Epoch 27/50\n",
      "50/50 [==============================] - 0s 2ms/step - loss: 0.2612 - accuracy: 0.9269 - val_loss: 0.2518 - val_accuracy: 0.9250\n",
      "Epoch 28/50\n",
      "50/50 [==============================] - 0s 2ms/step - loss: 0.2561 - accuracy: 0.9156 - val_loss: 0.2354 - val_accuracy: 0.9250\n",
      "Epoch 29/50\n",
      "50/50 [==============================] - 0s 2ms/step - loss: 0.2494 - accuracy: 0.9125 - val_loss: 0.2325 - val_accuracy: 0.9400\n",
      "Epoch 30/50\n",
      "50/50 [==============================] - 0s 2ms/step - loss: 0.2350 - accuracy: 0.9350 - val_loss: 0.2237 - val_accuracy: 0.9500\n",
      "Epoch 31/50\n",
      "50/50 [==============================] - 0s 3ms/step - loss: 0.2301 - accuracy: 0.9325 - val_loss: 0.2248 - val_accuracy: 0.9400\n",
      "Epoch 32/50\n",
      "50/50 [==============================] - 0s 3ms/step - loss: 0.2255 - accuracy: 0.9325 - val_loss: 0.2077 - val_accuracy: 0.9500\n",
      "Epoch 33/50\n",
      "50/50 [==============================] - 0s 2ms/step - loss: 0.2173 - accuracy: 0.9344 - val_loss: 0.2048 - val_accuracy: 0.9600\n",
      "Epoch 34/50\n",
      "50/50 [==============================] - 0s 2ms/step - loss: 0.2154 - accuracy: 0.9300 - val_loss: 0.2060 - val_accuracy: 0.9450\n",
      "Epoch 35/50\n",
      "50/50 [==============================] - 0s 2ms/step - loss: 0.2047 - accuracy: 0.9400 - val_loss: 0.1958 - val_accuracy: 0.9600\n",
      "Epoch 36/50\n",
      "50/50 [==============================] - 0s 2ms/step - loss: 0.1997 - accuracy: 0.9406 - val_loss: 0.1933 - val_accuracy: 0.9600\n",
      "Epoch 37/50\n",
      "50/50 [==============================] - 0s 2ms/step - loss: 0.1952 - accuracy: 0.9413 - val_loss: 0.1950 - val_accuracy: 0.9400\n",
      "Epoch 38/50\n",
      "50/50 [==============================] - 0s 2ms/step - loss: 0.1882 - accuracy: 0.9450 - val_loss: 0.2031 - val_accuracy: 0.9400\n",
      "Epoch 39/50\n",
      "50/50 [==============================] - 0s 2ms/step - loss: 0.1852 - accuracy: 0.9438 - val_loss: 0.1804 - val_accuracy: 0.9550\n",
      "Epoch 40/50\n",
      "50/50 [==============================] - 0s 2ms/step - loss: 0.1817 - accuracy: 0.9475 - val_loss: 0.1695 - val_accuracy: 0.9800\n",
      "Epoch 41/50\n",
      "50/50 [==============================] - 0s 2ms/step - loss: 0.1810 - accuracy: 0.9444 - val_loss: 0.1801 - val_accuracy: 0.9450\n",
      "Epoch 42/50\n",
      "50/50 [==============================] - 0s 2ms/step - loss: 0.1769 - accuracy: 0.9413 - val_loss: 0.1744 - val_accuracy: 0.9500\n",
      "Epoch 43/50\n",
      "50/50 [==============================] - 0s 3ms/step - loss: 0.1722 - accuracy: 0.9525 - val_loss: 0.1624 - val_accuracy: 0.9700\n",
      "Epoch 44/50\n",
      "50/50 [==============================] - 0s 3ms/step - loss: 0.1675 - accuracy: 0.9506 - val_loss: 0.1571 - val_accuracy: 0.9800\n",
      "Epoch 45/50\n",
      "50/50 [==============================] - 0s 2ms/step - loss: 0.1628 - accuracy: 0.9500 - val_loss: 0.1588 - val_accuracy: 0.9750\n",
      "Epoch 46/50\n",
      "50/50 [==============================] - 0s 2ms/step - loss: 0.1609 - accuracy: 0.9481 - val_loss: 0.1591 - val_accuracy: 0.9750\n",
      "Epoch 47/50\n",
      "50/50 [==============================] - 0s 2ms/step - loss: 0.1583 - accuracy: 0.9550 - val_loss: 0.1512 - val_accuracy: 0.9800\n",
      "Epoch 48/50\n",
      "50/50 [==============================] - 0s 2ms/step - loss: 0.1579 - accuracy: 0.9513 - val_loss: 0.1514 - val_accuracy: 0.9750\n",
      "Epoch 49/50\n",
      "50/50 [==============================] - 0s 2ms/step - loss: 0.1527 - accuracy: 0.9531 - val_loss: 0.1568 - val_accuracy: 0.9500\n",
      "Epoch 50/50\n",
      "50/50 [==============================] - 0s 2ms/step - loss: 0.1518 - accuracy: 0.9531 - val_loss: 0.1579 - val_accuracy: 0.9500\n"
     ]
    },
    {
     "data": {
      "text/plain": [
       "<keras.callbacks.History at 0x22c9eb80910>"
      ]
     },
     "execution_count": 24,
     "metadata": {},
     "output_type": "execute_result"
    }
   ],
   "source": [
    "model.fit(X_train,Y_train,validation_data=(X_val, Y_val),epochs=50)"
   ]
  },
  {
   "cell_type": "code",
   "execution_count": 25,
   "id": "5a83aa87",
   "metadata": {},
   "outputs": [
    {
     "name": "stdout",
     "output_type": "stream",
     "text": [
      "Model: \"sequential_1\"\n",
      "_________________________________________________________________\n",
      " Layer (type)                Output Shape              Param #   \n",
      "=================================================================\n",
      " dense_3 (Dense)             (None, 16)                336       \n",
      "                                                                 \n",
      " dense_4 (Dense)             (None, 16)                272       \n",
      "                                                                 \n",
      " dense_5 (Dense)             (None, 4)                 68        \n",
      "                                                                 \n",
      "=================================================================\n",
      "Total params: 676\n",
      "Trainable params: 676\n",
      "Non-trainable params: 0\n",
      "_________________________________________________________________\n"
     ]
    }
   ],
   "source": [
    "# summary of the model\n",
    "model.summary()"
   ]
  },
  {
   "cell_type": "code",
   "execution_count": 26,
   "id": "05e6ecf0",
   "metadata": {},
   "outputs": [
    {
     "data": {
      "text/plain": [
       "(1600, 20)"
      ]
     },
     "execution_count": 26,
     "metadata": {},
     "output_type": "execute_result"
    }
   ],
   "source": [
    "X_train.shape"
   ]
  },
  {
   "cell_type": "code",
   "execution_count": 27,
   "id": "5a130345",
   "metadata": {},
   "outputs": [
    {
     "name": "stdout",
     "output_type": "stream",
     "text": [
      "7/7 [==============================] - 0s 2ms/step - loss: 0.1959 - accuracy: 0.9150\n"
     ]
    },
    {
     "data": {
      "text/plain": [
       "[0.19585706293582916, 0.9150000214576721]"
      ]
     },
     "execution_count": 27,
     "metadata": {},
     "output_type": "execute_result"
    }
   ],
   "source": [
    "# evaluation on test set\n",
    "model.evaluate(X_test, Y_test)"
   ]
  },
  {
   "cell_type": "code",
   "execution_count": 28,
   "id": "16fdbeea",
   "metadata": {},
   "outputs": [],
   "source": [
    "# creates an array of predictions from a matrix of percentages of classifications\n",
    "def predictionrelease(preds):\n",
    "    arr=[]\n",
    "    for i in range(0,len(preds)):\n",
    "        ans=np.argmax(preds[i])\n",
    "        arr.append(ans)\n",
    "    len(arr)\n",
    "    return arr"
   ]
  },
  {
   "cell_type": "code",
   "execution_count": 29,
   "id": "a8b2c311",
   "metadata": {},
   "outputs": [
    {
     "name": "stdout",
     "output_type": "stream",
     "text": [
      "7/7 [==============================] - 0s 1ms/step\n"
     ]
    }
   ],
   "source": [
    "#testing our cross val sets\n",
    "prediction_Y = model.predict(X_test)\n",
    "testing_preds = predictionrelease(prediction_Y)"
   ]
  },
  {
   "cell_type": "code",
   "execution_count": 30,
   "id": "47e6b3f4",
   "metadata": {},
   "outputs": [],
   "source": [
    "# check accuracy and generate clssification report"
   ]
  },
  {
   "cell_type": "code",
   "execution_count": 31,
   "id": "5e5fef5d",
   "metadata": {},
   "outputs": [
    {
     "name": "stdout",
     "output_type": "stream",
     "text": [
      "              precision    recall  f1-score   support\n",
      "\n",
      "           0       1.00      0.94      0.97        47\n",
      "           1       0.85      1.00      0.92        50\n",
      "           2       0.93      0.78      0.85        51\n",
      "           3       0.91      0.94      0.92        52\n",
      "\n",
      "    accuracy                           0.92       200\n",
      "   macro avg       0.92      0.92      0.92       200\n",
      "weighted avg       0.92      0.92      0.91       200\n",
      "\n"
     ]
    }
   ],
   "source": [
    "from sklearn.metrics import classification_report,confusion_matrix\n",
    "\n",
    "#cross validation\n",
    "print(classification_report(Y_test,testing_preds)) "
   ]
  },
  {
   "cell_type": "code",
   "execution_count": null,
   "id": "b4f71870",
   "metadata": {},
   "outputs": [],
   "source": []
  }
 ],
 "metadata": {
  "kernelspec": {
   "display_name": "Python 3 (ipykernel)",
   "language": "python",
   "name": "python3"
  },
  "language_info": {
   "codemirror_mode": {
    "name": "ipython",
    "version": 3
   },
   "file_extension": ".py",
   "mimetype": "text/x-python",
   "name": "python",
   "nbconvert_exporter": "python",
   "pygments_lexer": "ipython3",
   "version": "3.9.13"
  }
 },
 "nbformat": 4,
 "nbformat_minor": 5
}
